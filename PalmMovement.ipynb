{
  "nbformat": 4,
  "nbformat_minor": 0,
  "metadata": {
    "colab": {
      "provenance": []
    },
    "kernelspec": {
      "name": "python3",
      "display_name": "Python 3"
    },
    "language_info": {
      "name": "python"
    }
  },
  "cells": [
    {
      "cell_type": "code",
      "execution_count": null,
      "metadata": {
        "id": "DgqTl8GUEa80"
      },
      "outputs": [],
      "source": [
        "import cv2\n",
        "from google.colab.patches import cv2_imshow\n",
        "import matplotlib.pyplot as plt\n",
        "import numpy as np"
      ]
    },
    {
      "cell_type": "code",
      "source": [
        "vid = cv2.VideoCapture('/content/palm-movement.mp4') \n",
        "\n",
        "#Load video\n",
        "c = 0\n",
        "frames = []\n",
        "while vid.isOpened():\n",
        "  ret, frame = vid.read()\n",
        "  if not ret:\n",
        "    break\n",
        "  frame = cv2.cvtColor(frame, cv2.COLOR_BGR2GRAY)\n",
        "  frames.append(frame)\n",
        "  \n",
        "vid.release()\n",
        "np.array(frames).shape"
      ],
      "metadata": {
        "colab": {
          "base_uri": "https://localhost:8080/"
        },
        "id": "P6SkqIQYRoSD",
        "outputId": "4c9f476f-81a0-434b-a395-6aafaa8d794d"
      },
      "execution_count": null,
      "outputs": [
        {
          "output_type": "execute_result",
          "data": {
            "text/plain": [
              "(242, 360, 640)"
            ]
          },
          "metadata": {},
          "execution_count": 329
        }
      ]
    },
    {
      "cell_type": "code",
      "source": [
        "#Use Farneback method to get flows\n",
        "flows = [cv2.calcOpticalFlowFarneback(f1, f2, None, 0.5, 3, 15, 3, 5, 1.2, 0) \n",
        "        for f1, f2 in zip(frames[:-1], frames[1:])]\n",
        "\n",
        "flows = np.array(flows)\n",
        "flows.shape"
      ],
      "metadata": {
        "id": "IsMOjrg2TUhI"
      },
      "execution_count": null,
      "outputs": []
    },
    {
      "cell_type": "code",
      "source": [
        "#Filter out movement frames\n",
        "threshold = 7\n",
        "framenumber = []\n",
        "vector = []\n",
        "\n",
        "for i in range(flows.shape[0]):\n",
        "  allf = flows[i]\n",
        "  allf = allf.reshape(230400, 2)\n",
        "  sq = np.square(allf)\n",
        "  rs = sq.mean(axis=0)\n",
        "  if abs(rs[0]) >= threshold or abs(rs[1]) >= threshold:\n",
        "    vector.append(allf.mean(axis=0))\n",
        "    framenumber.append(i)\n",
        "\n",
        "framenumber = np.array(framenumber)\n",
        "vector = np.array(vector)"
      ],
      "metadata": {
        "id": "ZPPlKyanjKsj"
      },
      "execution_count": null,
      "outputs": []
    },
    {
      "cell_type": "code",
      "source": [
        "#Determine direction of movement\n",
        "directions = []\n",
        "for i in vector:\n",
        "  if np.argmax(i) == 0:\n",
        "    if np.argmax(abs(i)) == 1:\n",
        "      directions.append('Up')\n",
        "    else:\n",
        "      directions.append('Right')\n",
        "  elif np.argmax(i) == 1:\n",
        "    if np.argmax(abs(i)) == 1:\n",
        "      directions.append('Down')\n",
        "    else:\n",
        "      directions.append('Left')\n",
        "    \n"
      ],
      "metadata": {
        "id": "8wL4iHCZlMHX"
      },
      "execution_count": null,
      "outputs": []
    },
    {
      "cell_type": "code",
      "source": [
        "#Put together the direction & Frames\n",
        "final = []\n",
        "for i in range(len(directions)-1):\n",
        "  if directions[i] != directions[i+1]:\n",
        "    final.append([framenumber[i], directions[i]])\n",
        "    \n",
        "\n"
      ],
      "metadata": {
        "id": "cBch2WgHkbGH"
      },
      "execution_count": null,
      "outputs": []
    },
    {
      "cell_type": "code",
      "source": [
        "final"
      ],
      "metadata": {
        "colab": {
          "base_uri": "https://localhost:8080/"
        },
        "id": "aYPY-dMFqWtW",
        "outputId": "2c31c406-255f-4a81-81ac-cc95142e32b4"
      }
